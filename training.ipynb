{
 "cells": [
  {
   "cell_type": "code",
   "execution_count": 1,
   "id": "06848776",
   "metadata": {},
   "outputs": [
    {
     "name": "stdout",
     "output_type": "stream",
     "text": [
      "https://app.neptune.ai/mrtahion/mod-cls-effnet/e/MOD-14\n",
      "Remember to stop your run once you’ve finished logging your metadata (https://docs.neptune.ai/api-reference/run#stop). It will be stopped automatically only when the notebook kernel/interactive console is terminated.\n"
     ]
    }
   ],
   "source": [
    "from efficientnet_pytorch import EfficientNet\n",
    "import os\n",
    "import pandas as pd\n",
    "import torch\n",
    "import cv2\n",
    "import neptune.new as neptune\n",
    "\n",
    "\n",
    "run = neptune.init(\n",
    "    project=\"mod-cls-effnet\", api_token=\"ANON\"\n",
    ")"
   ]
  },
  {
   "cell_type": "markdown",
   "id": "507a4796",
   "metadata": {},
   "source": [
    "###  Создание набора аугментаций"
   ]
  },
  {
   "cell_type": "code",
   "execution_count": 2,
   "id": "4a3a452c",
   "metadata": {},
   "outputs": [],
   "source": [
    "import albumentations as A\n",
    "from albumentations.pytorch import ToTensorV2\n",
    "\n",
    "def train_transform(img_size=240):\n",
    "    transform = A.Compose([\n",
    "        A.Flip(p=.25),\n",
    "        A.ShiftScaleRotate(\n",
    "                shift_limit=0.0625,\n",
    "                scale_limit=0.1,\n",
    "                rotate_limit=45,\n",
    "                p=.25,\n",
    "                interpolation=3,\n",
    "            ),\n",
    "\n",
    "        A.OneOf([\n",
    "                    A.GaussNoise(p=0.5),\n",
    "                    A.MultiplicativeNoise(p=0.5),\n",
    "                ],\n",
    "                p=0.1,\n",
    "            ),\n",
    "        A.OneOf(\n",
    "                [\n",
    "                    A.MotionBlur(\n",
    "                        p=0.5,\n",
    "                    ),\n",
    "                    A.MedianBlur(\n",
    "                        p=0.5,\n",
    "                    ),\n",
    "                    A.GaussianBlur(\n",
    "                        p=0.5,\n",
    "                    ),\n",
    "                    A.GlassBlur(\n",
    "                        p=0.5,\n",
    "                    ),\n",
    "                ],\n",
    "                p=0.1,\n",
    "            ),\n",
    "        A.OneOf(\n",
    "            [\n",
    "                A.Sharpen(p=0.5),\n",
    "                A.RandomBrightnessContrast(p=0.5),\n",
    "            ],\n",
    "            p=0.1,\n",
    "        ),\n",
    "        A.OneOf(\n",
    "            [\n",
    "                A.ChannelShuffle(p=0.1),\n",
    "                A.HueSaturationValue(p=0.1),\n",
    "                A.RGBShift(p=0.2)\n",
    "            ],\n",
    "            p=0.2\n",
    "        ),\n",
    "        A.InvertImg(p=0.1),\n",
    "        A.LongestMaxSize(max_size=img_size, always_apply=True, interpolation=3),\n",
    "        A.PadIfNeeded(min_height=img_size, min_width=img_size),\n",
    "        A.Normalize(mean=(0.485, 0.456, 0.406), std=(0.229, 0.224, 0.225)),\n",
    "        ToTensorV2()\n",
    "    ])\n",
    "    \n",
    "    return transform\n",
    "    \n",
    "def test_transform(img_size=240):\n",
    "    transform = A.Compose([\n",
    "        A.LongestMaxSize(max_size=img_size, always_apply=True, interpolation=3),\n",
    "        A.PadIfNeeded(min_height=img_size, min_width=img_size),\n",
    "        A.Normalize(mean=(0.485, 0.456, 0.406), std=(0.229, 0.224, 0.225)),\n",
    "        ToTensorV2()\n",
    "    ])\n",
    "    \n",
    "    return transform"
   ]
  },
  {
   "cell_type": "markdown",
   "id": "22ba0af1",
   "metadata": {},
   "source": [
    "### Создание датасета"
   ]
  },
  {
   "cell_type": "code",
   "execution_count": 4,
   "id": "104633ab",
   "metadata": {},
   "outputs": [],
   "source": [
    "from torch.utils.data import Dataset, DataLoader\n",
    "\n",
    "class ModDataset(Dataset):\n",
    "    def __init__(self, csv_path, img_dir, transform=test_transform()):\n",
    "        # Read the csv file\n",
    "        self.data_info = pd.read_csv(csv_path)\n",
    "        self.image_arr = np.asarray(self.data_info[\"filename\"])\n",
    "        self.label_arr = np.asarray(self.data_info[\"class\"])\n",
    "        \n",
    "        self.transform=transform\n",
    "        \n",
    "        self.img_dir = img_dir\n",
    "    \n",
    "    def loader(self, img_path):\n",
    "        img = cv2.imread(img_path)\n",
    "        img = cv2.cvtColor(img, cv2.COLOR_BGR2RGB)\n",
    "        \n",
    "        return img\n",
    "\n",
    "    def __getitem__(self, index):\n",
    "        # Get image name from the pandas df\n",
    "        single_image_name = self.image_arr[index]\n",
    "        # Open image\n",
    "        img_as_img = self.loader(os.path.join(self.img_dir,single_image_name))\n",
    "        if self.transform is not None:\n",
    "            image_tranformed = self.transform(image=img_as_img)[\"image\"]\n",
    "            \n",
    "        # Get label(class) of the image based on the cropped pandas column\n",
    "        single_image_label = self.label_arr[index]\n",
    "\n",
    "        return (image_tranformed, single_image_label)\n",
    "\n",
    "    def __len__(self):\n",
    "        return len(self.data_info.index)"
   ]
  },
  {
   "cell_type": "markdown",
   "id": "1f49534d",
   "metadata": {},
   "source": [
    "### Инициализация модели и основных гиперпараметров"
   ]
  },
  {
   "cell_type": "code",
   "execution_count": 5,
   "id": "c0d1c7a6",
   "metadata": {},
   "outputs": [
    {
     "name": "stdout",
     "output_type": "stream",
     "text": [
      "Loaded pretrained weights for efficientnet-b1\n"
     ]
    }
   ],
   "source": [
    "import torch.nn as nn\n",
    "\n",
    "\n",
    "params ={\n",
    "    \"lr\": 1e-4,\n",
    "    \"batch_size\": 64,\n",
    "    \"device\": \"cuda:1\",\n",
    "    \"num_classes\": 30, \n",
    "    \"num_workers\": 8,\n",
    "    \"n_epoch\": 10, \n",
    "    \"amsgrad\": True,\n",
    "    \"gamma\": 0.9\n",
    "    }\n",
    "\n",
    "model = EfficientNet.from_pretrained('efficientnet-b1', num_classes=params[\"num_classes\"]).to(params[\"device\"])\n",
    "optimizer = torch.optim.AdamW(model.parameters(), lr=params[\"lr\"], amsgrad=params[\"amsgrad\"])\n",
    "scheduler = torch.optim.lr_scheduler.ExponentialLR(optimizer, gamma=params[\"gamma\"])\n",
    "criterion = nn.CrossEntropyLoss().to(params[\"device\"])\n",
    "\n",
    "run[\"config/model\"] = type(model).__name__\n",
    "run[\"config/criterion\"] = type(criterion).__name__\n",
    "run[\"config/optimizer\"] = type(optimizer).__name__\n",
    "run[\"config/scheduler\"] = type(scheduler).__name__\n",
    "run[\"config/params\"] = params"
   ]
  },
  {
   "cell_type": "markdown",
   "id": "97ed6767",
   "metadata": {},
   "source": [
    "### Создадим dataloader'ы"
   ]
  },
  {
   "cell_type": "code",
   "execution_count": 6,
   "id": "51e90658",
   "metadata": {},
   "outputs": [],
   "source": [
    "train_dataset = ModDataset(csv_path=\"PATH\", img_dir=\"PATH\", transform=train_transform())\n",
    "test_dataset = ModDataset(csv_path=\"PATH\", img_dir=\"PATH\", transform=test_transform())\n",
    "\n",
    "train_loader = DataLoader(\n",
    "    train_dataset, batch_size=params[\"batch_size\"], shuffle=True, num_workers=params[\"num_workers\"], pin_memory=True, drop_last=True\n",
    ")\n",
    "test_loader = DataLoader(\n",
    "    test_dataset, batch_size=params[\"batch_size\"], shuffle=False, num_workers=params[\"num_workers\"], pin_memory=True,\n",
    ")\n"
   ]
  },
  {
   "cell_type": "markdown",
   "id": "07facb19",
   "metadata": {},
   "source": [
    "### Функции для тестирования и обучения"
   ]
  },
  {
   "cell_type": "code",
   "execution_count": 7,
   "id": "08a9b038",
   "metadata": {},
   "outputs": [],
   "source": [
    "    \n",
    "def train(train_loader, model, criterion, optimizer, params):\n",
    "    model.train()\n",
    "    \n",
    "    for i, (images, target) in enumerate(train_loader, start=1):\n",
    "        images = images.cuda(params[\"device\"], non_blocking=True)\n",
    "        target = target.cuda(params[\"device\"], non_blocking=True)\n",
    "        \n",
    "        output = model(images)\n",
    "        _, preds = torch.max(output, 1)\n",
    "        loss = criterion(output, target)\n",
    "        acc = (torch.sum(preds == target.data)) / len(target)\n",
    "        \n",
    "        run[\"train/batch/loss\"].log(loss)\n",
    "        run[\"train/batch/acc\"].log(acc)\n",
    "        \n",
    "        optimizer.zero_grad()\n",
    "        loss.backward()\n",
    "        optimizer.step()\n",
    "    \n",
    "@torch.no_grad()\n",
    "def test(test_loader, model, criterion, params):\n",
    "    model.eval()\n",
    "    test_predictions = []\n",
    "    test_labels = []\n",
    "    \n",
    "    for i, (images, target) in enumerate(test_loader, start=1):\n",
    "        images = images.cuda(params[\"device\"], non_blocking=True)\n",
    "        target = target.data.cpu().numpy()\n",
    "            \n",
    "        output = model(images)\n",
    "        _, preds = torch.max(output, 1)\n",
    "        test_predictions.append(preds.data.cpu().numpy())\n",
    "        test_labels.append(target)\n",
    "    \n",
    "    test_predictions =  np.concatenate(test_predictions)\n",
    "    test_labels = np.concatenate(test_labels)\n",
    "    acc = (test_predictions == test_labels).sum() / len(test_labels)\n",
    "    \n",
    "    run[\"test/acc\"] = acc"
   ]
  },
  {
   "cell_type": "markdown",
   "id": "6360f7dc",
   "metadata": {},
   "source": [
    "### Запуск обучения"
   ]
  },
  {
   "cell_type": "code",
   "execution_count": 8,
   "id": "dec8f591",
   "metadata": {},
   "outputs": [
    {
     "name": "stderr",
     "output_type": "stream",
     "text": [
      "[W pthreadpool-cpp.cc:90] Warning: Leaking Caffe2 thread-pool after fork. (function pthreadpool)\n",
      "[W pthreadpool-cpp.cc:90] Warning: Leaking Caffe2 thread-pool after fork. (function pthreadpool)\n",
      "[W pthreadpool-cpp.cc:90] Warning: Leaking Caffe2 thread-pool after fork. (function pthreadpool)\n",
      "[W pthreadpool-cpp.cc:90] Warning: Leaking Caffe2 thread-pool after fork. (function pthreadpool)\n",
      "[W pthreadpool-cpp.cc:90] Warning: Leaking Caffe2 thread-pool after fork. (function pthreadpool)\n",
      "[W pthreadpool-cpp.cc:90] Warning: Leaking Caffe2 thread-pool after fork. (function pthreadpool)\n",
      "[W pthreadpool-cpp.cc:90] Warning: Leaking Caffe2 thread-pool after fork. (function pthreadpool)\n",
      "[W pthreadpool-cpp.cc:90] Warning: Leaking Caffe2 thread-pool after fork. (function pthreadpool)\n",
      "[W pthreadpool-cpp.cc:90] Warning: Leaking Caffe2 thread-pool after fork. (function pthreadpool)\n",
      "[W pthreadpool-cpp.cc:90] Warning: Leaking Caffe2 thread-pool after fork. (function pthreadpool)\n",
      "[W pthreadpool-cpp.cc:90] Warning: Leaking Caffe2 thread-pool after fork. (function pthreadpool)\n",
      "[W pthreadpool-cpp.cc:90] Warning: Leaking Caffe2 thread-pool after fork. (function pthreadpool)\n",
      "[W pthreadpool-cpp.cc:90] Warning: Leaking Caffe2 thread-pool after fork. (function pthreadpool)\n",
      "[W pthreadpool-cpp.cc:90] Warning: Leaking Caffe2 thread-pool after fork. (function pthreadpool)\n",
      "[W pthreadpool-cpp.cc:90] Warning: Leaking Caffe2 thread-pool after fork. (function pthreadpool)\n",
      "[W pthreadpool-cpp.cc:90] Warning: Leaking Caffe2 thread-pool after fork. (function pthreadpool)\n",
      "[W pthreadpool-cpp.cc:90] Warning: Leaking Caffe2 thread-pool after fork. (function pthreadpool)\n",
      "[W pthreadpool-cpp.cc:90] Warning: Leaking Caffe2 thread-pool after fork. (function pthreadpool)\n",
      "[W pthreadpool-cpp.cc:90] Warning: Leaking Caffe2 thread-pool after fork. (function pthreadpool)\n",
      "[W pthreadpool-cpp.cc:90] Warning: Leaking Caffe2 thread-pool after fork. (function pthreadpool)\n",
      "[W pthreadpool-cpp.cc:90] Warning: Leaking Caffe2 thread-pool after fork. (function pthreadpool)\n",
      "[W pthreadpool-cpp.cc:90] Warning: Leaking Caffe2 thread-pool after fork. (function pthreadpool)\n",
      "[W pthreadpool-cpp.cc:90] Warning: Leaking Caffe2 thread-pool after fork. (function pthreadpool)\n",
      "[W pthreadpool-cpp.cc:90] Warning: Leaking Caffe2 thread-pool after fork. (function pthreadpool)\n",
      "[W pthreadpool-cpp.cc:90] Warning: Leaking Caffe2 thread-pool after fork. (function pthreadpool)\n",
      "[W pthreadpool-cpp.cc:90] Warning: Leaking Caffe2 thread-pool after fork. (function pthreadpool)\n",
      "[W pthreadpool-cpp.cc:90] Warning: Leaking Caffe2 thread-pool after fork. (function pthreadpool)\n",
      "[W pthreadpool-cpp.cc:90] Warning: Leaking Caffe2 thread-pool after fork. (function pthreadpool)\n",
      "[W pthreadpool-cpp.cc:90] Warning: Leaking Caffe2 thread-pool after fork. (function pthreadpool)\n",
      "[W pthreadpool-cpp.cc:90] Warning: Leaking Caffe2 thread-pool after fork. (function pthreadpool)\n",
      "[W pthreadpool-cpp.cc:90] Warning: Leaking Caffe2 thread-pool after fork. (function pthreadpool)\n",
      "[W pthreadpool-cpp.cc:90] Warning: Leaking Caffe2 thread-pool after fork. (function pthreadpool)\n",
      "[W pthreadpool-cpp.cc:90] Warning: Leaking Caffe2 thread-pool after fork. (function pthreadpool)\n",
      "[W pthreadpool-cpp.cc:90] Warning: Leaking Caffe2 thread-pool after fork. (function pthreadpool)\n",
      "[W pthreadpool-cpp.cc:90] Warning: Leaking Caffe2 thread-pool after fork. (function pthreadpool)\n",
      "[W pthreadpool-cpp.cc:90] Warning: Leaking Caffe2 thread-pool after fork. (function pthreadpool)\n",
      "[W pthreadpool-cpp.cc:90] Warning: Leaking Caffe2 thread-pool after fork. (function pthreadpool)\n",
      "[W pthreadpool-cpp.cc:90] Warning: Leaking Caffe2 thread-pool after fork. (function pthreadpool)\n",
      "[W pthreadpool-cpp.cc:90] Warning: Leaking Caffe2 thread-pool after fork. (function pthreadpool)\n",
      "[W pthreadpool-cpp.cc:90] Warning: Leaking Caffe2 thread-pool after fork. (function pthreadpool)\n",
      "[W pthreadpool-cpp.cc:90] Warning: Leaking Caffe2 thread-pool after fork. (function pthreadpool)\n",
      "[W pthreadpool-cpp.cc:90] Warning: Leaking Caffe2 thread-pool after fork. (function pthreadpool)\n",
      "[W pthreadpool-cpp.cc:90] Warning: Leaking Caffe2 thread-pool after fork. (function pthreadpool)\n",
      "[W pthreadpool-cpp.cc:90] Warning: Leaking Caffe2 thread-pool after fork. (function pthreadpool)\n",
      "[W pthreadpool-cpp.cc:90] Warning: Leaking Caffe2 thread-pool after fork. (function pthreadpool)\n",
      "[W pthreadpool-cpp.cc:90] Warning: Leaking Caffe2 thread-pool after fork. (function pthreadpool)\n",
      "[W pthreadpool-cpp.cc:90] Warning: Leaking Caffe2 thread-pool after fork. (function pthreadpool)\n",
      "[W pthreadpool-cpp.cc:90] Warning: Leaking Caffe2 thread-pool after fork. (function pthreadpool)\n",
      "[W pthreadpool-cpp.cc:90] Warning: Leaking Caffe2 thread-pool after fork. (function pthreadpool)\n",
      "[W pthreadpool-cpp.cc:90] Warning: Leaking Caffe2 thread-pool after fork. (function pthreadpool)\n",
      "[W pthreadpool-cpp.cc:90] Warning: Leaking Caffe2 thread-pool after fork. (function pthreadpool)\n",
      "[W pthreadpool-cpp.cc:90] Warning: Leaking Caffe2 thread-pool after fork. (function pthreadpool)\n",
      "[W pthreadpool-cpp.cc:90] Warning: Leaking Caffe2 thread-pool after fork. (function pthreadpool)\n",
      "[W pthreadpool-cpp.cc:90] Warning: Leaking Caffe2 thread-pool after fork. (function pthreadpool)\n",
      "[W pthreadpool-cpp.cc:90] Warning: Leaking Caffe2 thread-pool after fork. (function pthreadpool)\n",
      "[W pthreadpool-cpp.cc:90] Warning: Leaking Caffe2 thread-pool after fork. (function pthreadpool)\n",
      "[W pthreadpool-cpp.cc:90] Warning: Leaking Caffe2 thread-pool after fork. (function pthreadpool)\n",
      "[W pthreadpool-cpp.cc:90] Warning: Leaking Caffe2 thread-pool after fork. (function pthreadpool)\n",
      "[W pthreadpool-cpp.cc:90] Warning: Leaking Caffe2 thread-pool after fork. (function pthreadpool)\n",
      "[W pthreadpool-cpp.cc:90] Warning: Leaking Caffe2 thread-pool after fork. (function pthreadpool)\n",
      "[W pthreadpool-cpp.cc:90] Warning: Leaking Caffe2 thread-pool after fork. (function pthreadpool)\n",
      "[W pthreadpool-cpp.cc:90] Warning: Leaking Caffe2 thread-pool after fork. (function pthreadpool)\n",
      "[W pthreadpool-cpp.cc:90] Warning: Leaking Caffe2 thread-pool after fork. (function pthreadpool)\n",
      "[W pthreadpool-cpp.cc:90] Warning: Leaking Caffe2 thread-pool after fork. (function pthreadpool)\n",
      "[W pthreadpool-cpp.cc:90] Warning: Leaking Caffe2 thread-pool after fork. (function pthreadpool)\n",
      "[W pthreadpool-cpp.cc:90] Warning: Leaking Caffe2 thread-pool after fork. (function pthreadpool)\n",
      "[W pthreadpool-cpp.cc:90] Warning: Leaking Caffe2 thread-pool after fork. (function pthreadpool)\n",
      "[W pthreadpool-cpp.cc:90] Warning: Leaking Caffe2 thread-pool after fork. (function pthreadpool)\n",
      "[W pthreadpool-cpp.cc:90] Warning: Leaking Caffe2 thread-pool after fork. (function pthreadpool)\n",
      "[W pthreadpool-cpp.cc:90] Warning: Leaking Caffe2 thread-pool after fork. (function pthreadpool)\n",
      "[W pthreadpool-cpp.cc:90] Warning: Leaking Caffe2 thread-pool after fork. (function pthreadpool)\n",
      "[W pthreadpool-cpp.cc:90] Warning: Leaking Caffe2 thread-pool after fork. (function pthreadpool)\n",
      "[W pthreadpool-cpp.cc:90] Warning: Leaking Caffe2 thread-pool after fork. (function pthreadpool)\n",
      "[W pthreadpool-cpp.cc:90] Warning: Leaking Caffe2 thread-pool after fork. (function pthreadpool)\n",
      "[W pthreadpool-cpp.cc:90] Warning: Leaking Caffe2 thread-pool after fork. (function pthreadpool)\n",
      "[W pthreadpool-cpp.cc:90] Warning: Leaking Caffe2 thread-pool after fork. (function pthreadpool)\n",
      "[W pthreadpool-cpp.cc:90] Warning: Leaking Caffe2 thread-pool after fork. (function pthreadpool)\n",
      "[W pthreadpool-cpp.cc:90] Warning: Leaking Caffe2 thread-pool after fork. (function pthreadpool)\n",
      "[W pthreadpool-cpp.cc:90] Warning: Leaking Caffe2 thread-pool after fork. (function pthreadpool)\n",
      "[W pthreadpool-cpp.cc:90] Warning: Leaking Caffe2 thread-pool after fork. (function pthreadpool)\n",
      "[W pthreadpool-cpp.cc:90] Warning: Leaking Caffe2 thread-pool after fork. (function pthreadpool)\n",
      "[W pthreadpool-cpp.cc:90] Warning: Leaking Caffe2 thread-pool after fork. (function pthreadpool)\n",
      "[W pthreadpool-cpp.cc:90] Warning: Leaking Caffe2 thread-pool after fork. (function pthreadpool)\n",
      "[W pthreadpool-cpp.cc:90] Warning: Leaking Caffe2 thread-pool after fork. (function pthreadpool)\n"
     ]
    }
   ],
   "source": [
    "for epoch in range(1, params[\"n_epoch\"] + 1):\n",
    "    run[\"train/epoch/lr\"].log(scheduler.get_last_lr())\n",
    "    train(train_loader, model, criterion, optimizer, params)\n",
    "    scheduler.step()\n",
    "\n",
    "test(test_loader, model, criterion, params)"
   ]
  },
  {
   "cell_type": "markdown",
   "id": "58caa242",
   "metadata": {},
   "source": [
    "### Сохраним результат"
   ]
  },
  {
   "cell_type": "code",
   "execution_count": 9,
   "id": "c0df204a",
   "metadata": {},
   "outputs": [],
   "source": [
    "torch.save(model.state_dict(), \"PATH\")\n",
    "run[\"io_files/model_checkpoint\"].upload(\"PATH\")\n"
   ]
  },
  {
   "cell_type": "code",
   "execution_count": 10,
   "id": "671a17ca",
   "metadata": {},
   "outputs": [
    {
     "name": "stdout",
     "output_type": "stream",
     "text": [
      "Shutting down background jobs, please wait a moment...\n",
      "Done!\n"
     ]
    },
    {
     "name": "stderr",
     "output_type": "stream",
     "text": [
      "Waiting for the remaining 107 operations to synchronize with Neptune. Do not kill this process.\n"
     ]
    },
    {
     "name": "stdout",
     "output_type": "stream",
     "text": [
      "All 107 operations synced, thanks for waiting!\n"
     ]
    }
   ],
   "source": [
    "run.stop()"
   ]
  }
 ],
 "metadata": {
  "kernelspec": {
   "display_name": "Python 3 (ipykernel)",
   "language": "python",
   "name": "python3"
  },
  "language_info": {
   "codemirror_mode": {
    "name": "ipython",
    "version": 3
   },
   "file_extension": ".py",
   "mimetype": "text/x-python",
   "name": "python",
   "nbconvert_exporter": "python",
   "pygments_lexer": "ipython3",
   "version": "3.8.0"
  },
  "latex_envs": {
   "LaTeX_envs_menu_present": true,
   "autoclose": false,
   "autocomplete": true,
   "bibliofile": "biblio.bib",
   "cite_by": "apalike",
   "current_citInitial": 1,
   "eqLabelWithNumbers": true,
   "eqNumInitial": 1,
   "hotkeys": {
    "equation": "Ctrl-E",
    "itemize": "Ctrl-I"
   },
   "labels_anchors": false,
   "latex_user_defs": false,
   "report_style_numbering": false,
   "user_envs_cfg": false
  },
  "varInspector": {
   "cols": {
    "lenName": 16,
    "lenType": 16,
    "lenVar": 40
   },
   "kernels_config": {
    "python": {
     "delete_cmd_postfix": "",
     "delete_cmd_prefix": "del ",
     "library": "var_list.py",
     "varRefreshCmd": "print(var_dic_list())"
    },
    "r": {
     "delete_cmd_postfix": ") ",
     "delete_cmd_prefix": "rm(",
     "library": "var_list.r",
     "varRefreshCmd": "cat(var_dic_list()) "
    }
   },
   "types_to_exclude": [
    "module",
    "function",
    "builtin_function_or_method",
    "instance",
    "_Feature"
   ],
   "window_display": false
  }
 },
 "nbformat": 4,
 "nbformat_minor": 5
}
