{
 "cells": [
  {
   "cell_type": "code",
   "execution_count": 108,
   "metadata": {},
   "outputs": [],
   "source": [
    "import pandas as pd\n",
    "from sklearn.model_selection import train_test_split"
   ]
  },
  {
   "cell_type": "markdown",
   "metadata": {},
   "source": [
    "Загрузим занные и разобъем на обучающую и тестовую выборку требуемым способом"
   ]
  },
  {
   "cell_type": "code",
   "execution_count": 142,
   "metadata": {},
   "outputs": [],
   "source": [
    "annotation = pd.read_csv(\"Annotaion path\")\n",
    "\n",
    "train, test = train_test_split(annotation, test_size=0.2, random_state=42, stratify=annotation[\"class\"])"
   ]
  },
  {
   "cell_type": "markdown",
   "metadata": {},
   "source": [
    "Рассмотрим разбиение по классам обучающей и тестовый выборки"
   ]
  },
  {
   "cell_type": "code",
   "execution_count": 37,
   "metadata": {},
   "outputs": [
    {
     "data": {
      "text/plain": [
       "0     4571\n",
       "1     4020\n",
       "3     3440\n",
       "10    3303\n",
       "2     2864\n",
       "12    2142\n",
       "4     2065\n",
       "26    2033\n",
       "11    1816\n",
       "17    1612\n",
       "9     1594\n",
       "6     1580\n",
       "14    1480\n",
       "15    1419\n",
       "20    1258\n",
       "16    1238\n",
       "8     1235\n",
       "18    1074\n",
       "21    1056\n",
       "19    1028\n",
       "13    1019\n",
       "27     820\n",
       "24     796\n",
       "7      778\n",
       "25     759\n",
       "22     725\n",
       "23     701\n",
       "29     619\n",
       "5      609\n",
       "28     566\n",
       "Name: class, dtype: int64"
      ]
     },
     "execution_count": 37,
     "metadata": {},
     "output_type": "execute_result"
    }
   ],
   "source": [
    "train[\"class\"].value_counts()"
   ]
  },
  {
   "cell_type": "code",
   "execution_count": 38,
   "metadata": {},
   "outputs": [
    {
     "data": {
      "text/plain": [
       "0     1143\n",
       "1     1005\n",
       "3      860\n",
       "10     826\n",
       "2      716\n",
       "12     536\n",
       "4      516\n",
       "26     509\n",
       "11     454\n",
       "17     403\n",
       "9      398\n",
       "6      395\n",
       "14     370\n",
       "15     355\n",
       "20     314\n",
       "16     309\n",
       "8      309\n",
       "18     268\n",
       "21     264\n",
       "19     257\n",
       "13     255\n",
       "27     205\n",
       "24     199\n",
       "7      194\n",
       "25     190\n",
       "22     181\n",
       "23     175\n",
       "29     155\n",
       "5      152\n",
       "28     142\n",
       "Name: class, dtype: int64"
      ]
     },
     "execution_count": 38,
     "metadata": {},
     "output_type": "execute_result"
    }
   ],
   "source": [
    "test[\"class\"].value_counts()"
   ]
  },
  {
   "cell_type": "markdown",
   "metadata": {},
   "source": [
    "Сохраним `csv` файлы"
   ]
  },
  {
   "cell_type": "code",
   "execution_count": 35,
   "metadata": {},
   "outputs": [],
   "source": [
    "train.to_csv(\"train csv path\", index=False)\n",
    "test.to_csv(\"test csv path\", index=False)"
   ]
  }
 ],
 "metadata": {
  "kernelspec": {
   "display_name": "Python 3 (ipykernel)",
   "language": "python",
   "name": "python3"
  },
  "language_info": {
   "codemirror_mode": {
    "name": "ipython",
    "version": 3
   },
   "file_extension": ".py",
   "mimetype": "text/x-python",
   "name": "python",
   "nbconvert_exporter": "python",
   "pygments_lexer": "ipython3",
   "version": "3.8.0"
  },
  "latex_envs": {
   "LaTeX_envs_menu_present": true,
   "autoclose": false,
   "autocomplete": true,
   "bibliofile": "biblio.bib",
   "cite_by": "apalike",
   "current_citInitial": 1,
   "eqLabelWithNumbers": true,
   "eqNumInitial": 1,
   "hotkeys": {
    "equation": "Ctrl-E",
    "itemize": "Ctrl-I"
   },
   "labels_anchors": false,
   "latex_user_defs": false,
   "report_style_numbering": false,
   "user_envs_cfg": false
  },
  "varInspector": {
   "cols": {
    "lenName": 16,
    "lenType": 16,
    "lenVar": 40
   },
   "kernels_config": {
    "python": {
     "delete_cmd_postfix": "",
     "delete_cmd_prefix": "del ",
     "library": "var_list.py",
     "varRefreshCmd": "print(var_dic_list())"
    },
    "r": {
     "delete_cmd_postfix": ") ",
     "delete_cmd_prefix": "rm(",
     "library": "var_list.r",
     "varRefreshCmd": "cat(var_dic_list()) "
    }
   },
   "types_to_exclude": [
    "module",
    "function",
    "builtin_function_or_method",
    "instance",
    "_Feature"
   ],
   "window_display": false
  }
 },
 "nbformat": 4,
 "nbformat_minor": 4
}
